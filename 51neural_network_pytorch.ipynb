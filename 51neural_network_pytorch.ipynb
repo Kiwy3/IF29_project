{
 "cells": [
  {
   "cell_type": "code",
   "execution_count": 25,
   "metadata": {},
   "outputs": [],
   "source": [
    "\"\"\"\n",
    "\n",
    "Neural network to classify user\n",
    "In the case  study of IF29 class\n",
    "author : Nathan Davouse\n",
    "\n",
    "\"\"\"\n",
    "\n",
    "import matplotlib.pyplot as plt\n",
    "#connect from Mongo DB and import it on pandas\n",
    "from pymongo import MongoClient\n",
    "import pandas as pd\n",
    "import numpy as np\n",
    "import torch\n",
    "import torch.nn as nn\n",
    "import torch.nn.functional as F\n",
    "\n",
    "client = MongoClient(\"localhost\", 27017)\n",
    "db = client[\"IF29\"]\n",
    "collec = db.user_label #whole database\n",
    "data = pd.DataFrame(list(collec.find()))"
   ]
  },
  {
   "cell_type": "code",
   "execution_count": 26,
   "metadata": {},
   "outputs": [],
   "source": [
    "#Normalize data\n",
    "features = [\"verified\", \"friend_nb\", \"listed_nb\", \"follower_nb\", \n",
    "            \"favorites_nb\", \"len_description\",\n",
    "            \"tweet_nb\",\"hash_avg\",\"at_avg\",\"tweet_user_count\",\n",
    "            'tweet_frequency', 'friend_frequency',\"visibility\",\"Aggressivity\"]\n",
    "X = data[features]\n",
    "Y = data[[\"label\"]]"
   ]
  },
  {
   "cell_type": "code",
   "execution_count": 27,
   "metadata": {},
   "outputs": [
    {
     "data": {
      "text/html": [
       "<div>\n",
       "<style scoped>\n",
       "    .dataframe tbody tr th:only-of-type {\n",
       "        vertical-align: middle;\n",
       "    }\n",
       "\n",
       "    .dataframe tbody tr th {\n",
       "        vertical-align: top;\n",
       "    }\n",
       "\n",
       "    .dataframe thead th {\n",
       "        text-align: right;\n",
       "    }\n",
       "</style>\n",
       "<table border=\"1\" class=\"dataframe\">\n",
       "  <thead>\n",
       "    <tr style=\"text-align: right;\">\n",
       "      <th></th>\n",
       "      <th>verified</th>\n",
       "      <th>friend_nb</th>\n",
       "      <th>listed_nb</th>\n",
       "      <th>follower_nb</th>\n",
       "      <th>favorites_nb</th>\n",
       "      <th>len_description</th>\n",
       "      <th>tweet_nb</th>\n",
       "      <th>hash_avg</th>\n",
       "      <th>at_avg</th>\n",
       "      <th>tweet_user_count</th>\n",
       "      <th>tweet_frequency</th>\n",
       "      <th>friend_frequency</th>\n",
       "      <th>visibility</th>\n",
       "      <th>Aggressivity</th>\n",
       "    </tr>\n",
       "  </thead>\n",
       "  <tbody>\n",
       "    <tr>\n",
       "      <th>0</th>\n",
       "      <td>1.0</td>\n",
       "      <td>0.001585</td>\n",
       "      <td>0.023217</td>\n",
       "      <td>0.002083</td>\n",
       "      <td>7.859111e-03</td>\n",
       "      <td>0.721698</td>\n",
       "      <td>0.0007</td>\n",
       "      <td>0.04</td>\n",
       "      <td>0.051282</td>\n",
       "      <td>7.480728e-03</td>\n",
       "      <td>0.005575</td>\n",
       "      <td>0.000269</td>\n",
       "      <td>0.005783</td>\n",
       "      <td>0.064103</td>\n",
       "    </tr>\n",
       "    <tr>\n",
       "      <th>1</th>\n",
       "      <td>0.0</td>\n",
       "      <td>0.000122</td>\n",
       "      <td>0.000102</td>\n",
       "      <td>0.000015</td>\n",
       "      <td>1.841124e-03</td>\n",
       "      <td>0.080189</td>\n",
       "      <td>0.0000</td>\n",
       "      <td>0.00</td>\n",
       "      <td>0.076923</td>\n",
       "      <td>1.364499e-03</td>\n",
       "      <td>0.001019</td>\n",
       "      <td>0.000021</td>\n",
       "      <td>0.001035</td>\n",
       "      <td>0.038462</td>\n",
       "    </tr>\n",
       "    <tr>\n",
       "      <th>2</th>\n",
       "      <td>0.0</td>\n",
       "      <td>0.000308</td>\n",
       "      <td>0.000962</td>\n",
       "      <td>0.000108</td>\n",
       "      <td>2.691510e-02</td>\n",
       "      <td>0.646226</td>\n",
       "      <td>0.0000</td>\n",
       "      <td>0.00</td>\n",
       "      <td>0.000000</td>\n",
       "      <td>3.335829e-03</td>\n",
       "      <td>0.002491</td>\n",
       "      <td>0.000052</td>\n",
       "      <td>0.002532</td>\n",
       "      <td>0.000000</td>\n",
       "    </tr>\n",
       "    <tr>\n",
       "      <th>3</th>\n",
       "      <td>1.0</td>\n",
       "      <td>0.000700</td>\n",
       "      <td>0.009639</td>\n",
       "      <td>0.000509</td>\n",
       "      <td>3.544339e-03</td>\n",
       "      <td>0.547170</td>\n",
       "      <td>0.0000</td>\n",
       "      <td>0.04</td>\n",
       "      <td>0.000000</td>\n",
       "      <td>1.557536e-03</td>\n",
       "      <td>0.001163</td>\n",
       "      <td>0.000119</td>\n",
       "      <td>0.001255</td>\n",
       "      <td>0.038462</td>\n",
       "    </tr>\n",
       "    <tr>\n",
       "      <th>4</th>\n",
       "      <td>0.0</td>\n",
       "      <td>0.000595</td>\n",
       "      <td>0.001372</td>\n",
       "      <td>0.000104</td>\n",
       "      <td>7.009540e-03</td>\n",
       "      <td>0.330189</td>\n",
       "      <td>0.0000</td>\n",
       "      <td>0.12</td>\n",
       "      <td>0.076923</td>\n",
       "      <td>1.314893e-03</td>\n",
       "      <td>0.000982</td>\n",
       "      <td>0.000101</td>\n",
       "      <td>0.001060</td>\n",
       "      <td>0.153846</td>\n",
       "    </tr>\n",
       "    <tr>\n",
       "      <th>...</th>\n",
       "      <td>...</td>\n",
       "      <td>...</td>\n",
       "      <td>...</td>\n",
       "      <td>...</td>\n",
       "      <td>...</td>\n",
       "      <td>...</td>\n",
       "      <td>...</td>\n",
       "      <td>...</td>\n",
       "      <td>...</td>\n",
       "      <td>...</td>\n",
       "      <td>...</td>\n",
       "      <td>...</td>\n",
       "      <td>...</td>\n",
       "      <td>...</td>\n",
       "    </tr>\n",
       "    <tr>\n",
       "      <th>1843434</th>\n",
       "      <td>0.0</td>\n",
       "      <td>0.000000</td>\n",
       "      <td>0.000000</td>\n",
       "      <td>0.000000</td>\n",
       "      <td>0.000000e+00</td>\n",
       "      <td>0.000000</td>\n",
       "      <td>0.0000</td>\n",
       "      <td>0.12</td>\n",
       "      <td>0.076923</td>\n",
       "      <td>2.244611e-07</td>\n",
       "      <td>0.000078</td>\n",
       "      <td>0.000000</td>\n",
       "      <td>0.000078</td>\n",
       "      <td>0.153846</td>\n",
       "    </tr>\n",
       "    <tr>\n",
       "      <th>1843435</th>\n",
       "      <td>0.0</td>\n",
       "      <td>0.000000</td>\n",
       "      <td>0.000000</td>\n",
       "      <td>0.000000</td>\n",
       "      <td>0.000000e+00</td>\n",
       "      <td>0.000000</td>\n",
       "      <td>0.0000</td>\n",
       "      <td>0.12</td>\n",
       "      <td>0.076923</td>\n",
       "      <td>4.489222e-07</td>\n",
       "      <td>0.000131</td>\n",
       "      <td>0.000000</td>\n",
       "      <td>0.000131</td>\n",
       "      <td>0.153846</td>\n",
       "    </tr>\n",
       "    <tr>\n",
       "      <th>1843436</th>\n",
       "      <td>0.0</td>\n",
       "      <td>0.000000</td>\n",
       "      <td>0.000000</td>\n",
       "      <td>0.000000</td>\n",
       "      <td>0.000000e+00</td>\n",
       "      <td>0.000000</td>\n",
       "      <td>0.0000</td>\n",
       "      <td>0.16</td>\n",
       "      <td>0.076923</td>\n",
       "      <td>1.458997e-06</td>\n",
       "      <td>0.000366</td>\n",
       "      <td>0.000000</td>\n",
       "      <td>0.000366</td>\n",
       "      <td>0.192308</td>\n",
       "    </tr>\n",
       "    <tr>\n",
       "      <th>1843437</th>\n",
       "      <td>0.0</td>\n",
       "      <td>0.000000</td>\n",
       "      <td>0.000000</td>\n",
       "      <td>0.000000</td>\n",
       "      <td>0.000000e+00</td>\n",
       "      <td>0.000000</td>\n",
       "      <td>0.0000</td>\n",
       "      <td>0.12</td>\n",
       "      <td>0.076923</td>\n",
       "      <td>0.000000e+00</td>\n",
       "      <td>0.000026</td>\n",
       "      <td>0.000000</td>\n",
       "      <td>0.000026</td>\n",
       "      <td>0.153846</td>\n",
       "    </tr>\n",
       "    <tr>\n",
       "      <th>1843438</th>\n",
       "      <td>0.0</td>\n",
       "      <td>0.000003</td>\n",
       "      <td>0.000000</td>\n",
       "      <td>0.000000</td>\n",
       "      <td>5.818977e-07</td>\n",
       "      <td>0.000000</td>\n",
       "      <td>0.0000</td>\n",
       "      <td>0.20</td>\n",
       "      <td>0.076923</td>\n",
       "      <td>0.000000e+00</td>\n",
       "      <td>0.000026</td>\n",
       "      <td>0.000135</td>\n",
       "      <td>0.000131</td>\n",
       "      <td>0.230769</td>\n",
       "    </tr>\n",
       "  </tbody>\n",
       "</table>\n",
       "<p>1843439 rows × 14 columns</p>\n",
       "</div>"
      ],
      "text/plain": [
       "         verified  friend_nb  listed_nb  follower_nb  favorites_nb  \\\n",
       "0             1.0   0.001585   0.023217     0.002083  7.859111e-03   \n",
       "1             0.0   0.000122   0.000102     0.000015  1.841124e-03   \n",
       "2             0.0   0.000308   0.000962     0.000108  2.691510e-02   \n",
       "3             1.0   0.000700   0.009639     0.000509  3.544339e-03   \n",
       "4             0.0   0.000595   0.001372     0.000104  7.009540e-03   \n",
       "...           ...        ...        ...          ...           ...   \n",
       "1843434       0.0   0.000000   0.000000     0.000000  0.000000e+00   \n",
       "1843435       0.0   0.000000   0.000000     0.000000  0.000000e+00   \n",
       "1843436       0.0   0.000000   0.000000     0.000000  0.000000e+00   \n",
       "1843437       0.0   0.000000   0.000000     0.000000  0.000000e+00   \n",
       "1843438       0.0   0.000003   0.000000     0.000000  5.818977e-07   \n",
       "\n",
       "         len_description  tweet_nb  hash_avg    at_avg  tweet_user_count  \\\n",
       "0               0.721698    0.0007      0.04  0.051282      7.480728e-03   \n",
       "1               0.080189    0.0000      0.00  0.076923      1.364499e-03   \n",
       "2               0.646226    0.0000      0.00  0.000000      3.335829e-03   \n",
       "3               0.547170    0.0000      0.04  0.000000      1.557536e-03   \n",
       "4               0.330189    0.0000      0.12  0.076923      1.314893e-03   \n",
       "...                  ...       ...       ...       ...               ...   \n",
       "1843434         0.000000    0.0000      0.12  0.076923      2.244611e-07   \n",
       "1843435         0.000000    0.0000      0.12  0.076923      4.489222e-07   \n",
       "1843436         0.000000    0.0000      0.16  0.076923      1.458997e-06   \n",
       "1843437         0.000000    0.0000      0.12  0.076923      0.000000e+00   \n",
       "1843438         0.000000    0.0000      0.20  0.076923      0.000000e+00   \n",
       "\n",
       "         tweet_frequency  friend_frequency  visibility  Aggressivity  \n",
       "0               0.005575          0.000269    0.005783      0.064103  \n",
       "1               0.001019          0.000021    0.001035      0.038462  \n",
       "2               0.002491          0.000052    0.002532      0.000000  \n",
       "3               0.001163          0.000119    0.001255      0.038462  \n",
       "4               0.000982          0.000101    0.001060      0.153846  \n",
       "...                  ...               ...         ...           ...  \n",
       "1843434         0.000078          0.000000    0.000078      0.153846  \n",
       "1843435         0.000131          0.000000    0.000131      0.153846  \n",
       "1843436         0.000366          0.000000    0.000366      0.192308  \n",
       "1843437         0.000026          0.000000    0.000026      0.153846  \n",
       "1843438         0.000026          0.000135    0.000131      0.230769  \n",
       "\n",
       "[1843439 rows x 14 columns]"
      ]
     },
     "execution_count": 27,
     "metadata": {},
     "output_type": "execute_result"
    }
   ],
   "source": [
    "#normalize data\n",
    "from sklearn.preprocessing import StandardScaler\n",
    "from sklearn.preprocessing import MinMaxScaler\n",
    "#scaler = StandardScaler()\n",
    "scaler = MinMaxScaler()\n",
    "scaler.set_output(transform=\"pandas\")\n",
    "X_sc = scaler.fit_transform(X)\n",
    "\n",
    "X_sc"
   ]
  },
  {
   "cell_type": "code",
   "execution_count": 28,
   "metadata": {},
   "outputs": [
    {
     "data": {
      "text/plain": [
       "array([1, 0, 2], dtype=int64)"
      ]
     },
     "execution_count": 28,
     "metadata": {},
     "output_type": "execute_result"
    }
   ],
   "source": [
    "Y[\"label\"].unique()"
   ]
  },
  {
   "cell_type": "code",
   "execution_count": 29,
   "metadata": {},
   "outputs": [
    {
     "name": "stdout",
     "output_type": "stream",
     "text": [
      "229\n",
      "(10000, 1)\n",
      "(10000, 12)\n"
     ]
    }
   ],
   "source": [
    "# remove Vp & Ap from training\n",
    "X_plot = X_sc[[\"visibility\", \"Aggressivity\"]].copy()\n",
    "X_sc_removed = X_sc.drop([\"visibility\", \"Aggressivity\"], axis=1)\n",
    "# Slice and correct label\n",
    "X_train = X_sc_removed[Y.label != 1]\n",
    "Y_train = Y[Y.label != 1]\n",
    "#Y_train.loc[Y_train.label ==2] = 1\n",
    "#Y_train[Y_train.label == 2] = 1\n",
    "# Split data\n",
    "\n",
    "\n",
    "Y_train = Y_train.iloc[:10000]\n",
    "X_train = X_train.iloc[:10000]\n",
    "\n",
    "num_twos = (Y_train == 2).sum().item()\n",
    "print(num_twos)\n",
    "\n",
    "print(Y_train.shape)\n",
    "print(X_train.shape)\n",
    "\n",
    "\n",
    "from sklearn.model_selection import train_test_split\n",
    "\n",
    "X_train, X_test, Y_train, Y_test = train_test_split(X_train, Y_train, test_size=0.30)\n",
    "X_train = torch.FloatTensor(X_train.values)\n",
    "x_test = torch.FloatTensor(X_test.values)\n",
    "Y_train = torch.LongTensor(Y_train.values)\n",
    "y_test = torch.LongTensor(Y_test.values)"
   ]
  },
  {
   "cell_type": "code",
   "execution_count": 30,
   "metadata": {},
   "outputs": [],
   "source": [
    "\"\"\"Create and train the neural network\"\"\"\n",
    "#héritier de torch.nn.Module\n",
    "class Model(torch.nn.Module):\n",
    "\n",
    "    #constructeur, input_features nombre de variables explicatives\n",
    "    def __init__(self, input_features, hidden_sizes, output_classes):\n",
    "        #appel du constructeur de l'ancêtre\n",
    "        super().__init__()\n",
    "        #couche d'entrée (p variables) vers première couche cachée\n",
    "        self.hidden_layers = nn.ModuleList()\n",
    "        self.hidden_layers.append(nn.Linear(input_features, hidden_sizes[0]))\n",
    "        \n",
    "        # Ajout des autres couches cachées\n",
    "        for i in range(1, len(hidden_sizes)):\n",
    "            self.hidden_layers.append(nn.Linear(hidden_sizes[i-1], hidden_sizes[i]))\n",
    "        \n",
    "        # Dernière couche cachée vers la couche de sortie\n",
    "        self.output_layer = nn.Linear(hidden_sizes[-1], output_classes)\n",
    "    \n",
    "    #calcul de la sortie du réseau\n",
    "    #à partir d'une matrice x en entrée\n",
    "    def forward(self, x):\n",
    "        for layer in self.hidden_layers:\n",
    "            x = F.relu(layer(x))\n",
    "        out = self.output_layer(x)\n",
    "        return out\n",
    "    "
   ]
  },
  {
   "cell_type": "code",
   "execution_count": 55,
   "metadata": {},
   "outputs": [],
   "source": [
    "#Paramétrage    \n",
    "input_size = X_sc_removed.shape[1]\n",
    "hidden_size = [100, 50, 20]\n",
    "n_epochs = 150\n",
    "\n",
    "output_classes = data['label'].nunique()\n"
   ]
  },
  {
   "cell_type": "code",
   "execution_count": 56,
   "metadata": {},
   "outputs": [
    {
     "data": {
      "text/plain": [
       "__main__.Model"
      ]
     },
     "execution_count": 56,
     "metadata": {},
     "output_type": "execute_result"
    }
   ],
   "source": [
    "#création du modèle\n",
    "model = Model(input_size, hidden_size, output_classes)\n",
    "type(model)\n"
   ]
  },
  {
   "cell_type": "code",
   "execution_count": 57,
   "metadata": {},
   "outputs": [],
   "source": [
    "#optimisation modèle\n",
    "criterion = torch.nn.CrossEntropyLoss()\n",
    "#critere_ps = torch.nn.MSELoss()\n",
    "optimizer = torch.optim.Adam(model.parameters())\n"
   ]
  },
  {
   "cell_type": "code",
   "execution_count": 58,
   "metadata": {},
   "outputs": [],
   "source": [
    "def calc_accuracy(model, X, y_true):\n",
    "    # Mettre le modèle en mode évaluation\n",
    "    model.eval()\n",
    "    # Pas besoin de calculer les gradients lors de l'évaluation\n",
    "    with torch.no_grad():\n",
    "        # Obtenir les prédictions du modèle\n",
    "        y_pred_prob = F.softmax(model(X), dim=1)\n",
    "        # Obtenir les classes prédites en prenant l'indice de la classe avec la probabilité maximale\n",
    "        _, y_pred = torch.max(y_pred_prob, 1)\n",
    "        # Calculer l'accuracy\n",
    "        correct = (y_pred == y_true).sum().item()\n",
    "        total = y_true.size(0)\n",
    "        accuracy = correct / total\n",
    "    return accuracy\n",
    "\n",
    "\n",
    "\n"
   ]
  },
  {
   "cell_type": "code",
   "execution_count": 59,
   "metadata": {},
   "outputs": [
    {
     "name": "stdout",
     "output_type": "stream",
     "text": [
      "torch.Size([7000, 12])\n"
     ]
    },
    {
     "data": {
      "text/plain": [
       "tensor([[ 0.1251,  0.2430, -0.1974],\n",
       "        [ 0.1260,  0.2438, -0.1981],\n",
       "        [ 0.1229,  0.2421, -0.1946],\n",
       "        ...,\n",
       "        [ 0.1247,  0.2429, -0.1970],\n",
       "        [ 0.1210,  0.2409, -0.1926],\n",
       "        [ 0.1270,  0.2408, -0.1943]], grad_fn=<AddmmBackward0>)"
      ]
     },
     "execution_count": 59,
     "metadata": {},
     "output_type": "execute_result"
    }
   ],
   "source": [
    "print(X_train.shape)\n",
    "\n",
    "yPred = model(X_train)\n",
    "yPred\n"
   ]
  },
  {
   "cell_type": "code",
   "execution_count": 60,
   "metadata": {},
   "outputs": [],
   "source": [
    "#entrainement\n",
    "def train_session(X_train, Y_train, x_test, y_test, classifier, criterion, optimizer, n_epochs):\n",
    "    losses = np.zeros(n_epochs)\n",
    "    accuracies_train = np.zeros(n_epochs)\n",
    "    accuracies_test = np.zeros(n_epochs)\n",
    "\n",
    "    for iter in range(n_epochs):\n",
    "        optimizer.zero_grad()\n",
    "        yPred = classifier(X_train)\n",
    "        loss = criterion(yPred.squeeze(), Y_train.squeeze())\n",
    "        losses[iter] = loss.item()\n",
    "        loss.backward()\n",
    "        optimizer.step()\n",
    "\n",
    "        # Calculer l'accuracy sur les données d'entraînement\n",
    "        accuracy_train = calc_accuracy(classifier, X_train, Y_train)\n",
    "        accuracies_train[iter] = accuracy_train\n",
    "\n",
    "        # Calculer l'accuracy sur les données de test\n",
    "        accuracy_test = calc_accuracy(classifier, x_test, y_test)\n",
    "        accuracies_test[iter] = accuracy_test\n",
    "        \n",
    "    return losses, accuracies_train, accuracies_test\n"
   ]
  },
  {
   "cell_type": "code",
   "execution_count": 61,
   "metadata": {},
   "outputs": [],
   "source": [
    "#entrainement du modèle\n",
    "pertes, accuracies_train, accuracies_test = train_session(X_train, Y_train, x_test, y_test, model, criterion, optimizer, n_epochs)\n"
   ]
  },
  {
   "cell_type": "code",
   "execution_count": 62,
   "metadata": {},
   "outputs": [
    {
     "data": {
      "image/png": "[encoded data removed]",
      "text/plain": [
       "<Figure size 640x480 with 1 Axes>"
      ]
     },
     "metadata": {},
     "output_type": "display_data"
    }
   ],
   "source": [
    "import matplotlib.pyplot as plt\n",
    "plt.plot(np.arange(0,pertes.shape[0]),pertes)\n",
    "plt.title(\"Evolution fnct de perte\")\n",
    "plt.xlabel(\"Epochs\")\n",
    "plt.ylabel(\"Loss\")\n",
    "plt.show()"
   ]
  },
  {
   "cell_type": "code",
   "execution_count": 63,
   "metadata": {},
   "outputs": [
    {
     "name": "stdout",
     "output_type": "stream",
     "text": [
      "tensor(0.5126)\n"
     ]
    }
   ],
   "source": [
    "with torch.no_grad():\n",
    "    \n",
    "    # Passer les données d'évaluation à travers le modèle pour obtenir les prédictions\n",
    "    y_eval = model(x_test)\n",
    "\n",
    "    # Calculer la perte en utilisant la fonction de perte\n",
    "    loss = criterion(y_eval, y_test.squeeze())\n",
    "\n",
    "print(loss)"
   ]
  },
  {
   "cell_type": "markdown",
   "metadata": {},
   "source": [
    "def accuracy_by_epoch(X_train, Y_train, x_test, y_test, model, criterion, optimizer, n_epochs):\n",
    "    train_accuracies = []\n",
    "    test_accuracies = []\n",
    "    \n",
    "    for epoch in range(n_epochs):\n",
    "        # Entraînement du modèle pour une epoch\n",
    "        train_session(X_train, Y_train, model, criterion, optimizer, 1)\n",
    "        \n",
    "        # Calcul de l'accuracy sur l'ensemble d'entraînement\n",
    "        train_accuracy = calculate_accuracy(X_train, Y_train, model)\n",
    "        train_accuracies.append(train_accuracy)\n",
    "        \n",
    "        # Calcul de l'accuracy sur l'ensemble de test\n",
    "        test_accuracy = calculate_accuracy(x_test, y_test, model)\n",
    "        test_accuracies.append(test_accuracy)\n",
    "        \n",
    "    return train_accuracies, test_accuracies"
   ]
  },
  {
   "cell_type": "code",
   "execution_count": null,
   "metadata": {},
   "outputs": [],
   "source": []
  },
  {
   "cell_type": "code",
   "execution_count": 64,
   "metadata": {},
   "outputs": [
    {
     "name": "stdout",
     "output_type": "stream",
     "text": [
      "[0.00000000e+00 0.00000000e+00 0.00000000e+00 0.00000000e+00\n",
      " 0.00000000e+00 0.00000000e+00 9.77714286e-01 4.57570286e+02\n",
      " 1.95249543e+03 6.84400000e+03 6.84400000e+03 6.84400000e+03\n",
      " 6.84400000e+03 6.84400000e+03 6.84400000e+03 6.84400000e+03\n",
      " 6.84400000e+03 6.84400000e+03 6.84400000e+03 6.84400000e+03\n",
      " 6.84400000e+03 6.84400000e+03 6.84400000e+03 6.84400000e+03\n",
      " 6.84400000e+03 6.84400000e+03 6.84400000e+03 6.84400000e+03\n",
      " 6.84400000e+03 6.84400000e+03 6.84400000e+03 6.84400000e+03\n",
      " 6.84400000e+03 6.84400000e+03 6.84400000e+03 6.84400000e+03\n",
      " 6.84400000e+03 6.84400000e+03 6.84400000e+03 6.84400000e+03\n",
      " 6.84400000e+03 6.84400000e+03 6.84400000e+03 6.84400000e+03\n",
      " 6.84400000e+03 6.84400000e+03 6.84400000e+03 6.84400000e+03\n",
      " 6.84400000e+03 6.84400000e+03]\n"
     ]
    }
   ],
   "source": [
    "print(accuracies_train)"
   ]
  },
  {
   "cell_type": "code",
   "execution_count": 65,
   "metadata": {},
   "outputs": [
    {
     "name": "stdout",
     "output_type": "stream",
     "text": [
      "[   0.            0.            0.            0.            0.\n",
      "    0.            0.          232.20866667  846.87866667 2927.\n",
      " 2927.         2927.         2927.         2927.         2927.\n",
      " 2927.         2927.         2927.         2927.         2927.\n",
      " 2927.         2927.         2927.         2927.         2927.\n",
      " 2927.         2927.         2927.         2927.         2927.\n",
      " 2927.         2927.         2927.         2927.         2927.\n",
      " 2927.         2927.         2927.         2927.         2927.\n",
      " 2927.         2927.         2927.         2927.         2927.\n",
      " 2927.         2927.         2927.         2927.         2927.        ]\n"
     ]
    }
   ],
   "source": [
    "print(accuracies_test)"
   ]
  },
  {
   "cell_type": "code",
   "execution_count": 66,
   "metadata": {},
   "outputs": [
    {
     "data": {
      "image/png": "[encoded data removed]",
      "text/plain": [
       "<Figure size 640x480 with 1 Axes>"
      ]
     },
     "metadata": {},
     "output_type": "display_data"
    }
   ],
   "source": [
    "plt.plot(np.arange(0, accuracies_train.shape[0]), accuracies_train, label='Train')\n",
    "plt.plot(np.arange(0, accuracies_test.shape[0]), accuracies_test, label='Test')\n",
    "plt.title(\"Evolution de l'accuracy en fonction des epochs\")\n",
    "plt.xlabel(\"Epochs\")\n",
    "plt.ylabel(\"Accuracy\")\n",
    "plt.legend()\n",
    "plt.show()"
   ]
  }
 ],
 "metadata": {
  "kernelspec": {
   "display_name": "Python 3",
   "language": "python",
   "name": "python3"
  },
  "language_info": {
   "codemirror_mode": {
    "name": "ipython",
    "version": 3
   },
   "file_extension": ".py",
   "mimetype": "text/x-python",
   "name": "python",
   "nbconvert_exporter": "python",
   "pygments_lexer": "ipython3",
   "version": "3.12.2"
  }
 },
 "nbformat": 4,
 "nbformat_minor": 2
}
