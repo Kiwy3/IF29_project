{
 "cells": [
  {
   "cell_type": "code",
   "execution_count": 2,
   "metadata": {},
   "outputs": [],
   "source": [
    "import pandas as pd\n",
    "import numpy as np\n",
    "from sklearn.decomposition import PCA\n",
    "from sklearn.preprocessing import StandardScaler\n",
    "from scipy.cluster.hierarchy import dendrogram, linkage, fcluster\n",
    "from sklearn.cluster import KMeans\n",
    "import matplotlib.pyplot as plt\n",
    "import seaborn as sns\n",
    "from pymongo import MongoClient"
   ]
  },
  {
   "cell_type": "code",
   "execution_count": 24,
   "metadata": {},
   "outputs": [],
   "source": [
    "# Connexion à MongoDB et chargement des données\n",
    "client = MongoClient(\"localhost\", 27017)\n",
    "db = client.IF29\n",
    "collec = db.user_db_pca\n",
    "data = pd.DataFrame(list(collec.find()))\n",
    "sample_data = data.sample(frac=0.03, random_state=42)"
   ]
  },
  {
   "cell_type": "code",
   "execution_count": 25,
   "metadata": {},
   "outputs": [
    {
     "ename": "MemoryError",
     "evalue": "Unable to allocate 11.4 GiB for an array with shape (1529183253,) and data type float64",
     "output_type": "error",
     "traceback": [
      "\u001b[1;31m---------------------------------------------------------------------------\u001b[0m",
      "\u001b[1;31mMemoryError\u001b[0m                               Traceback (most recent call last)",
      "Cell \u001b[1;32mIn[25], line 1\u001b[0m\n\u001b[1;32m----> 1\u001b[0m cah \u001b[38;5;241m=\u001b[39m \u001b[43mlinkage\u001b[49m\u001b[43m(\u001b[49m\u001b[43msample_data\u001b[49m\u001b[43m,\u001b[49m\u001b[43m \u001b[49m\u001b[43mmethod\u001b[49m\u001b[38;5;241;43m=\u001b[39;49m\u001b[38;5;124;43m\"\u001b[39;49m\u001b[38;5;124;43mward\u001b[39;49m\u001b[38;5;124;43m\"\u001b[39;49m\u001b[43m)\u001b[49m\n\u001b[0;32m      2\u001b[0m \u001b[38;5;28mprint\u001b[39m(cah)\n",
      "File \u001b[1;32mc:\\Users\\julie\\AppData\\Local\\Programs\\Python\\Python312\\Lib\\site-packages\\scipy\\cluster\\hierarchy.py:1024\u001b[0m, in \u001b[0;36mlinkage\u001b[1;34m(y, method, metric, optimal_ordering)\u001b[0m\n\u001b[0;32m   1018\u001b[0m     \u001b[38;5;28;01mif\u001b[39;00m (y\u001b[38;5;241m.\u001b[39mshape[\u001b[38;5;241m0\u001b[39m] \u001b[38;5;241m==\u001b[39m y\u001b[38;5;241m.\u001b[39mshape[\u001b[38;5;241m1\u001b[39m] \u001b[38;5;129;01mand\u001b[39;00m np\u001b[38;5;241m.\u001b[39mallclose(np\u001b[38;5;241m.\u001b[39mdiag(y), \u001b[38;5;241m0\u001b[39m) \u001b[38;5;129;01mand\u001b[39;00m\n\u001b[0;32m   1019\u001b[0m             xp\u001b[38;5;241m.\u001b[39mall(y \u001b[38;5;241m>\u001b[39m\u001b[38;5;241m=\u001b[39m \u001b[38;5;241m0\u001b[39m) \u001b[38;5;129;01mand\u001b[39;00m np\u001b[38;5;241m.\u001b[39mallclose(y, y\u001b[38;5;241m.\u001b[39mT)):\n\u001b[0;32m   1020\u001b[0m         warnings\u001b[38;5;241m.\u001b[39mwarn(\u001b[38;5;124m'\u001b[39m\u001b[38;5;124mThe symmetric non-negative hollow observation \u001b[39m\u001b[38;5;124m'\u001b[39m\n\u001b[0;32m   1021\u001b[0m                       \u001b[38;5;124m'\u001b[39m\u001b[38;5;124mmatrix looks suspiciously like an uncondensed \u001b[39m\u001b[38;5;124m'\u001b[39m\n\u001b[0;32m   1022\u001b[0m                       \u001b[38;5;124m'\u001b[39m\u001b[38;5;124mdistance matrix\u001b[39m\u001b[38;5;124m'\u001b[39m,\n\u001b[0;32m   1023\u001b[0m                       ClusterWarning, stacklevel\u001b[38;5;241m=\u001b[39m\u001b[38;5;241m2\u001b[39m)\n\u001b[1;32m-> 1024\u001b[0m     y \u001b[38;5;241m=\u001b[39m \u001b[43mdistance\u001b[49m\u001b[38;5;241;43m.\u001b[39;49m\u001b[43mpdist\u001b[49m\u001b[43m(\u001b[49m\u001b[43my\u001b[49m\u001b[43m,\u001b[49m\u001b[43m \u001b[49m\u001b[43mmetric\u001b[49m\u001b[43m)\u001b[49m\n\u001b[0;32m   1025\u001b[0m     y \u001b[38;5;241m=\u001b[39m xp\u001b[38;5;241m.\u001b[39masarray(y)\n\u001b[0;32m   1026\u001b[0m \u001b[38;5;28;01melse\u001b[39;00m:\n",
      "File \u001b[1;32mc:\\Users\\julie\\AppData\\Local\\Programs\\Python\\Python312\\Lib\\site-packages\\scipy\\spatial\\distance.py:2180\u001b[0m, in \u001b[0;36mpdist\u001b[1;34m(X, metric, out, **kwargs)\u001b[0m\n\u001b[0;32m   2178\u001b[0m \u001b[38;5;28;01mif\u001b[39;00m metric_info \u001b[38;5;129;01mis\u001b[39;00m \u001b[38;5;129;01mnot\u001b[39;00m \u001b[38;5;28;01mNone\u001b[39;00m:\n\u001b[0;32m   2179\u001b[0m     pdist_fn \u001b[38;5;241m=\u001b[39m metric_info\u001b[38;5;241m.\u001b[39mpdist_func\n\u001b[1;32m-> 2180\u001b[0m     \u001b[38;5;28;01mreturn\u001b[39;00m \u001b[43mpdist_fn\u001b[49m\u001b[43m(\u001b[49m\u001b[43mX\u001b[49m\u001b[43m,\u001b[49m\u001b[43m \u001b[49m\u001b[43mout\u001b[49m\u001b[38;5;241;43m=\u001b[39;49m\u001b[43mout\u001b[49m\u001b[43m,\u001b[49m\u001b[43m \u001b[49m\u001b[38;5;241;43m*\u001b[39;49m\u001b[38;5;241;43m*\u001b[39;49m\u001b[43mkwargs\u001b[49m\u001b[43m)\u001b[49m\n\u001b[0;32m   2181\u001b[0m \u001b[38;5;28;01melif\u001b[39;00m mstr\u001b[38;5;241m.\u001b[39mstartswith(\u001b[38;5;124m\"\u001b[39m\u001b[38;5;124mtest_\u001b[39m\u001b[38;5;124m\"\u001b[39m):\n\u001b[0;32m   2182\u001b[0m     metric_info \u001b[38;5;241m=\u001b[39m _TEST_METRICS\u001b[38;5;241m.\u001b[39mget(mstr, \u001b[38;5;28;01mNone\u001b[39;00m)\n",
      "\u001b[1;31mMemoryError\u001b[0m: Unable to allocate 11.4 GiB for an array with shape (1529183253,) and data type float64"
     ]
    }
   ],
   "source": [
    "cah = linkage(sample_data, method=\"ward\")\n",
    "print(cah)"
   ]
  },
  {
   "cell_type": "code",
   "execution_count": 21,
   "metadata": {},
   "outputs": [
    {
     "data": {
      "image/png": "[encoded data removed]",
      "text/plain": [
       "<Figure size 1000x700 with 1 Axes>"
      ]
     },
     "metadata": {},
     "output_type": "display_data"
    }
   ],
   "source": [
    "# Dendrogramme des échantillons\n",
    "plt.figure(figsize=(10, 7))\n",
    "dendrogram(cah, truncate_mode=\"level\", p=10)\n",
    "plt.title('Dendrogram of Samples')\n",
    "plt.xlabel('Sample index')\n",
    "plt.ylabel('Distance')\n",
    "plt.show()"
   ]
  },
  {
   "cell_type": "code",
   "execution_count": 6,
   "metadata": {},
   "outputs": [],
   "source": [
    "from sklearn.metrics import silhouette_score\n",
    "# Fonction pour trouver le meilleur seuil max_d\n",
    "def optimal_dendrogram_cut(cah, pca_res, min_clusters=2, max_clusters=10):\n",
    "    best_silhouette_score = -1\n",
    "    best_num_clusters = 0\n",
    "    best_clusters = None\n",
    "\n",
    "    for num_clusters in range(min_clusters, max_clusters + 1):\n",
    "        # Utiliser fcluster pour couper le dendrogramme à num_clusters\n",
    "        clusters = fcluster(cah, num_clusters, criterion='maxclust')\n",
    "        \n",
    "        # Calculer le score de silhouette pour les clusters\n",
    "        silhouette_avg = silhouette_score(pca_res, clusters)\n",
    "        \n",
    "        # Comparer et garder le meilleur score de silhouette\n",
    "        if silhouette_avg > best_silhouette_score:\n",
    "            best_silhouette_score = silhouette_avg\n",
    "            best_num_clusters = num_clusters\n",
    "            best_clusters = clusters\n",
    "            \n",
    "    return best_num_clusters, best_clusters, best_silhouette_score"
   ]
  },
  {
   "cell_type": "code",
   "execution_count": 16,
   "metadata": {},
   "outputs": [
    {
     "name": "stdout",
     "output_type": "stream",
     "text": [
      "Best number of clusters: 2\n",
      "Best silhouette score: 0.9668135014348278\n"
     ]
    }
   ],
   "source": [
    "# Trouver le meilleur nombre de clusters\n",
    "best_num_clusters, best_clusters_hierarchical, best_silhouette_score = optimal_dendrogram_cut(cah, sample_data)\n",
    "\n",
    "print(f'Best number of clusters: {best_num_clusters}')\n",
    "print(f'Best silhouette score: {best_silhouette_score}')"
   ]
  },
  {
   "cell_type": "code",
   "execution_count": null,
   "metadata": {},
   "outputs": [],
   "source": [
    "# Détermination du nombre de clusters en coupant le dendrogramme à une distance spécifiée\n",
    "max_d = best_clusters_hierarchical  # Ajustez cette distance en fonction de votre analyse\n",
    "data['cluster_label'] = fcluster(cah, max_d, criterion='distance')\n",
    "\n",
    "# Affichage des clusters\n",
    "plt.scatter(sample_data[\"pca0\"], sample_data[\"pca1\"], c=sample_data['cluster_label'], s=0.5, cmap='viridis')\n",
    "plt.title('Clusters déterminés par CAH')\n",
    "plt.xlabel('Première composante principale')\n",
    "plt.ylabel('Deuxième composante principale')\n",
    "plt.colorbar(label='Cluster label')\n",
    "plt.show()"
   ]
  },
  {
   "cell_type": "code",
   "execution_count": null,
   "metadata": {},
   "outputs": [],
   "source": [
    "# Charger les données de la base de données B pour la mise à jour\n",
    "db_B = client['IF29']\n",
    "collection_B = db_B['user_db']\n",
    "\n",
    "# Mettre à jour les documents de la base de données B avec les étiquettes de cluster\n",
    "for index, row in sample_data.iterrows():\n",
    "    id_value = row['_id']\n",
    "    cluster_label = int(row['cluster_label'])  # Convertir en int si nécessaire\n",
    "    collection_B.update_one({'_id': id_value}, {'$set': {'cah': cluster_label}})"
   ]
  }
 ],
 "metadata": {
  "kernelspec": {
   "display_name": "Python 3",
   "language": "python",
   "name": "python3"
  },
  "language_info": {
   "codemirror_mode": {
    "name": "ipython",
    "version": 3
   },
   "file_extension": ".py",
   "mimetype": "text/x-python",
   "name": "python",
   "nbconvert_exporter": "python",
   "pygments_lexer": "ipython3",
   "version": "3.12.2"
  }
 },
 "nbformat": 4,
 "nbformat_minor": 2
}
