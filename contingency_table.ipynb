{
 "cells": [
  {
   "cell_type": "code",
   "execution_count": 3,
   "metadata": {},
   "outputs": [],
   "source": [
    "import pandas as pd\n",
    "from pymongo import MongoClient"
   ]
  },
  {
   "cell_type": "code",
   "execution_count": 4,
   "metadata": {},
   "outputs": [],
   "source": [
    "# Connexion à MongoDB et importation des données dans Pandas\n",
    "client = MongoClient(\"localhost\", 27017)\n",
    "db = client[\"IF29\"]\n",
    "collec = db.user_db\n",
    "data = pd.DataFrame(list(collec.find()))\n"
   ]
  },
  {
   "cell_type": "code",
   "execution_count": 5,
   "metadata": {},
   "outputs": [
    {
     "name": "stdout",
     "output_type": "stream",
     "text": [
      "cah     1.0    2.0  3.0  4.0\n",
      "kmeans                      \n",
      "0.0       9   9904    0    0\n",
      "1.0       0  14336    0    0\n",
      "2.0     352   8473    3  362\n"
     ]
    }
   ],
   "source": [
    "# Créer la table de contingence\n",
    "contingency_table_kmeans_cah = pd.crosstab(data['kmeans'], data['cah'])\n",
    "print(contingency_table_kmeans_cah)\n"
   ]
  },
  {
   "cell_type": "code",
   "execution_count": 6,
   "metadata": {},
   "outputs": [
    {
     "name": "stdout",
     "output_type": "stream",
     "text": [
      "nn        0.0     1.0\n",
      "svm                  \n",
      "-1.0  1172527   35875\n",
      " 1.0    36064  424242\n"
     ]
    }
   ],
   "source": [
    "contingency_table_svm_nn = pd.crosstab(data['svm'], data['nn'])\n",
    "print(contingency_table_svm_nn)"
   ]
  },
  {
   "cell_type": "code",
   "execution_count": 7,
   "metadata": {},
   "outputs": [
    {
     "name": "stdout",
     "output_type": "stream",
     "text": [
      "cah   1.0    2.0  3.0  4.0\n",
      "svm                       \n",
      "-1.0   10  23803    0  197\n",
      " 1.0  351   8910    3  165\n"
     ]
    }
   ],
   "source": [
    "contingency_table_svm_cah = pd.crosstab(data['svm'], data['cah'])\n",
    "print(contingency_table_svm_cah)"
   ]
  },
  {
   "cell_type": "code",
   "execution_count": 8,
   "metadata": {},
   "outputs": [
    {
     "name": "stdout",
     "output_type": "stream",
     "text": [
      "kmeans     0.0     1.0     2.0\n",
      "svm                           \n",
      "-1.0    362178  554236  291988\n",
      " 1.0    134050  169574  156682\n"
     ]
    }
   ],
   "source": [
    "contingency_table_svm_kmeans = pd.crosstab(data['svm'], data['kmeans'])\n",
    "print(contingency_table_svm_kmeans)"
   ]
  },
  {
   "cell_type": "code",
   "execution_count": 9,
   "metadata": {},
   "outputs": [
    {
     "name": "stdout",
     "output_type": "stream",
     "text": [
      "kmeans     0.0     1.0     2.0\n",
      "nn                            \n",
      "0.0     348224  556882  303485\n",
      "1.0     148004  166928  145185\n"
     ]
    }
   ],
   "source": [
    "contingency_table_nn_kmeans = pd.crosstab(data['nn'], data['kmeans'])\n",
    "print(contingency_table_nn_kmeans)"
   ]
  },
  {
   "cell_type": "code",
   "execution_count": 10,
   "metadata": {},
   "outputs": [
    {
     "name": "stdout",
     "output_type": "stream",
     "text": [
      "cah  1.0    2.0  3.0  4.0\n",
      "nn                       \n",
      "0.0    2  23899    0  191\n",
      "1.0  359   8814    3  171\n"
     ]
    }
   ],
   "source": [
    "contingency_table_nn_cah = pd.crosstab(data['nn'], data['cah'])\n",
    "print(contingency_table_nn_cah)"
   ]
  },
  {
   "cell_type": "code",
   "execution_count": null,
   "metadata": {},
   "outputs": [],
   "source": [
    "# Dictionnaire des noms de feuilles et des tableaux de contingence correspondants\n",
    "contingency_tables = {\n",
    "    \"kmeans vs CAH\": contingency_table_kmeans_cah,\n",
    "    \"SVM vs NN\": contingency_table_svm_nn,\n",
    "    \"SVM vs Kmeans\": contingency_table_svm_kmeans,\n",
    "    \"SVM vs CAH\": contingency_table_svm_cah,\n",
    "    \"NN vs CAH\": contingency_table_nn_cah,\n",
    "    \"NN vs kmeans\": contingency_table_nn_kmeans,\n",
    "}\n",
    "\n",
    "# Création d'un writer Excel\n",
    "with pd.ExcelWriter(\"contingency_tables.xlsx\") as writer:\n",
    "    # Boucle sur les éléments du dictionnaire pour écrire chaque tableau dans la feuille correspondante\n",
    "    for sheet_name, table in contingency_tables.items():\n",
    "        table.to_excel(writer, sheet_name=sheet_name)"
   ]
  }
 ],
 "metadata": {
  "kernelspec": {
   "display_name": "Python 3",
   "language": "python",
   "name": "python3"
  },
  "language_info": {
   "codemirror_mode": {
    "name": "ipython",
    "version": 3
   },
   "file_extension": ".py",
   "mimetype": "text/x-python",
   "name": "python",
   "nbconvert_exporter": "python",
   "pygments_lexer": "ipython3",
   "version": "3.12.2"
  }
 },
 "nbformat": 4,
 "nbformat_minor": 2
}
